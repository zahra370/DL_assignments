{
  "cells": [
    {
      "cell_type": "markdown",
      "metadata": {
        "id": "view-in-github",
        "colab_type": "text"
      },
      "source": [
        "<a href=\"https://colab.research.google.com/github/zahra370/DL_assignments/blob/main/zahra_khan_ANN.ipynb\" target=\"_parent\"><img src=\"https://colab.research.google.com/assets/colab-badge.svg\" alt=\"Open In Colab\"/></a>"
      ]
    },
    {
      "cell_type": "code",
      "execution_count": 1,
      "metadata": {
        "id": "n8ILMVBiLDS5"
      },
      "outputs": [],
      "source": [
        "#  importing Libraries\n",
        "from tensorflow.keras import datasets\n",
        "import matplotlib.pyplot as plt\n",
        "import numpy as np\n",
        "from scipy.ndimage import uniform_filter\n",
        "\n",
        "  \n",
        "import tensorflow as tf\n",
        "from tensorflow.keras import datasets, layers, models\n",
        "import matplotlib.pyplot as plt\n",
        "import numpy as np\n",
        "\n"
      ]
    },
    {
      "cell_type": "code",
      "execution_count": 2,
      "metadata": {
        "colab": {
          "base_uri": "https://localhost:8080/",
          "height": 448
        },
        "id": "XjBgVkI8LK0-",
        "outputId": "5aaf15d7-b948-4d59-ba9e-9bd4880c5bfd"
      },
      "outputs": [
        {
          "output_type": "stream",
          "name": "stdout",
          "text": [
            "Downloading data from https://www.cs.toronto.edu/~kriz/cifar-10-python.tar.gz\n",
            "170498071/170498071 [==============================] - 5s 0us/step\n",
            "Images Shape: (50000, 32, 32, 3)\n",
            "Labels Shape: (50000, 1)\n",
            "Index Shape: (50000,)\n",
            "Filtered Images Shape: (5000, 32, 32, 3)\n",
            "labels4 (5000, 1)\n",
            "Index Shape: (50000,)\n",
            "Filtered Images Shape: (5000, 32, 32, 3)\n",
            "labels6 (5000, 1)\n"
          ]
        },
        {
          "output_type": "display_data",
          "data": {
            "text/plain": [
              "<Figure size 432x288 with 1 Axes>"
            ],
            "image/png": "[encoded data removed]"
          },
          "metadata": {
            "needs_background": "light"
          }
        }
      ],
      "source": [
        "# importing CIFAR10 dataset\n",
        "(train_images, train_labels), (test_images, test_labels)= datasets.cifar10.load_data()\n",
        "\n",
        "print('Images Shape: {}'.format(train_images.shape))\n",
        "print('Labels Shape: {}'.format(train_labels.shape))\n",
        "\n",
        "# extraction class 5 deer \n",
        "idx = (train_labels == 0).reshape(train_images.shape[0])\n",
        "print('Index Shape: {}'.format(idx.shape))\n",
        "filtered_images4 = train_images[idx]\n",
        "print('Filtered Images Shape: {}'.format(filtered_images4.shape))\n",
        "plt.imshow(filtered_images4[150])\n",
        "# extracting labels for class4\n",
        "labels_c4 = train_labels[idx]\n",
        "print('labels4',labels_c4.shape)\n",
        "\n",
        "\n",
        "# extracting class 6 frog\n",
        "\n",
        "idx = (train_labels == 1).reshape(train_images.shape[0])\n",
        "print('Index Shape: {}'.format(idx.shape))\n",
        "filtered_images6 = train_images[idx]\n",
        "print('Filtered Images Shape: {}'.format(filtered_images6.shape))\n",
        "plt.imshow(filtered_images6[200])\n",
        "\n",
        "# extracting labels for class6\n",
        "\n",
        "labels_c6 = train_labels[idx]\n",
        "print('labels6',labels_c6.shape)\n",
        "\n"
      ]
    },
    {
      "cell_type": "code",
      "source": [
        "# extracting first 20 images from class4\n",
        "\n",
        "class4_img = filtered_images4[:20]\n",
        "print(class4_img.shape)\n",
        "class6_img = filtered_images6[:20]\n",
        "print(class6_img.shape)\n",
        "c4_labels = labels_c4[:20]\n",
        "print(c4_labels.shape)\n",
        "c6_labels = labels_c6[:20]\n",
        "print(c6_labels.shape)"
      ],
      "metadata": {
        "colab": {
          "base_uri": "https://localhost:8080/"
        },
        "id": "mbpjnpp7iXki",
        "outputId": "319aec03-c516-4af0-f92d-282dc4a17799"
      },
      "execution_count": 3,
      "outputs": [
        {
          "output_type": "stream",
          "name": "stdout",
          "text": [
            "(20, 32, 32, 3)\n",
            "(20, 32, 32, 3)\n",
            "(20, 1)\n",
            "(20, 1)\n"
          ]
        }
      ]
    },
    {
      "cell_type": "code",
      "source": [
        "# splitting data into train and test set\n",
        "\n",
        "X_train_c4 = class4_img[:12]\n",
        "X_train_c6 = class6_img[:12]\n",
        "X_TRAIN = np.concatenate((X_train_c4, X_train_c6))\n",
        "print('xtrain',X_TRAIN.shape)\n",
        "\n",
        "X_val_c4 = class4_img[12:16]\n",
        "X_val_c6 = class6_img[12:16]\n",
        "X_VAL = np.concatenate((X_val_c4, X_val_c6))\n",
        "print('xval',X_VAL.shape)\n",
        "\n",
        "X_test_c4 = class4_img[16:]\n",
        "X_test_c6 = class6_img[16:]\n",
        "X_TEST = np.concatenate((X_test_c4, X_test_c6))\n",
        "print('xtest',X_TEST.shape)\n",
        "\n",
        "Y_train_c4 = c4_labels[:12]\n",
        "Y_train_c6 = c6_labels[:12]\n",
        "Y_TRAIN = np.concatenate((Y_train_c4, Y_train_c6))\n",
        "print('ytrain',Y_TRAIN.shape)\n",
        "\n",
        "Y_val_c4 = c4_labels[12:16]\n",
        "Y_val_c6 = c6_labels[12:16]\n",
        "Y_VAL = np.concatenate((Y_val_c4, Y_val_c6))\n",
        "print('yval',Y_VAL.shape)\n",
        "\n",
        "Y_test_c4 = c4_labels[16:]\n",
        "Y_test_c6 = c6_labels[16:]\n",
        "Y_TEST = np.concatenate((Y_test_c4, Y_test_c6))\n",
        "print('ytest',Y_TEST.shape)"
      ],
      "metadata": {
        "colab": {
          "base_uri": "https://localhost:8080/"
        },
        "id": "yCY7Vur-i769",
        "outputId": "95dd86fc-5778-4d13-acbf-42f3acc2a586"
      },
      "execution_count": 4,
      "outputs": [
        {
          "output_type": "stream",
          "name": "stdout",
          "text": [
            "xtrain (24, 32, 32, 3)\n",
            "xval (8, 32, 32, 3)\n",
            "xtest (8, 32, 32, 3)\n",
            "ytrain (24, 1)\n",
            "yval (8, 1)\n",
            "ytest (8, 1)\n"
          ]
        }
      ]
    },
    {
      "cell_type": "code",
      "execution_count": 5,
      "metadata": {
        "colab": {
          "base_uri": "https://localhost:8080/"
        },
        "id": "YbAUqpXQLQsi",
        "outputId": "ac362da5-3572-43db-e866-439d0ac51ba0"
      },
      "outputs": [
        {
          "output_type": "stream",
          "name": "stdout",
          "text": [
            "xtrain (24, 32, 32, 3)\n",
            "xval (8, 32, 32, 3)\n",
            "xtest (8, 32, 32, 3)\n",
            "ytrain (24,)\n",
            "yval (8,)\n",
            "ytest (8,)\n"
          ]
        }
      ],
      "source": [
        "\n",
        "# Standardize data to have feature values between 0 and 1.\n",
        "x_train = X_TRAIN/255.\n",
        "x_val = X_VAL/255.\n",
        "x_test = X_TEST/255.\n",
        "\n",
        "print('xtrain',x_train.shape)\n",
        "print('xval',x_val.shape)\n",
        "print('xtest',x_test.shape)\n",
        "\n",
        "y_train = Y_TRAIN.reshape(-1,)\n",
        "y_val = Y_VAL.reshape(-1,)\n",
        "y_test = Y_TEST.reshape(-1,)\n",
        "print('ytrain',y_train.shape)\n",
        "print('yval',y_val.shape)\n",
        "print('ytest',y_test.shape)\n"
      ]
    },
    {
      "cell_type": "code",
      "source": [],
      "metadata": {
        "id": "9L1JoZYMjW_8"
      },
      "execution_count": null,
      "outputs": []
    },
    {
      "cell_type": "code",
      "source": [
        "ann = models.Sequential([\n",
        "        layers.Flatten(input_shape=(32,32,3)),\n",
        "        layers.Dense(10, activation='LeakyReLU'),\n",
        "        layers.Dense(10, activation='LeakyReLU'),\n",
        "        layers.Dense(5, activation='LeakyReLU'),\n",
        "        layers.Dense(1, activation='sigmoid')    \n",
        "    ])\n",
        "\n",
        "ann.compile(optimizer='Adam',\n",
        "              loss='binary_crossentropy',\n",
        "              metrics=['accuracy'])\n",
        "\n",
        "his = ann.fit(x_train, y_train, epochs=10)"
      ],
      "metadata": {
        "colab": {
          "base_uri": "https://localhost:8080/"
        },
        "id": "LJcvwIfc13MT",
        "outputId": "14873c1e-e478-436b-a3f6-15f3dc73dd0e"
      },
      "execution_count": 9,
      "outputs": [
        {
          "output_type": "stream",
          "name": "stdout",
          "text": [
            "Epoch 1/10\n",
            "1/1 [==============================] - 1s 569ms/step - loss: 0.7601 - accuracy: 0.5000\n",
            "Epoch 2/10\n",
            "1/1 [==============================] - 0s 15ms/step - loss: 0.7221 - accuracy: 0.5000\n",
            "Epoch 3/10\n",
            "1/1 [==============================] - 0s 15ms/step - loss: 0.6974 - accuracy: 0.5000\n",
            "Epoch 4/10\n",
            "1/1 [==============================] - 0s 17ms/step - loss: 0.6907 - accuracy: 0.5000\n",
            "Epoch 5/10\n",
            "1/1 [==============================] - 0s 10ms/step - loss: 0.6761 - accuracy: 0.5000\n",
            "Epoch 6/10\n",
            "1/1 [==============================] - 0s 8ms/step - loss: 0.6516 - accuracy: 0.5417\n",
            "Epoch 7/10\n",
            "1/1 [==============================] - 0s 8ms/step - loss: 0.6344 - accuracy: 0.8333\n",
            "Epoch 8/10\n",
            "1/1 [==============================] - 0s 7ms/step - loss: 0.6220 - accuracy: 0.7917\n",
            "Epoch 9/10\n",
            "1/1 [==============================] - 0s 7ms/step - loss: 0.6013 - accuracy: 0.7917\n",
            "Epoch 10/10\n",
            "1/1 [==============================] - 0s 8ms/step - loss: 0.5844 - accuracy: 0.8750\n"
          ]
        }
      ]
    },
    {
      "cell_type": "code",
      "source": [
        "from sklearn.metrics import confusion_matrix , classification_report\n",
        "import numpy as np\n",
        "y_pred = ann.predict(x_val)\n",
        "y_pred_classes = [np.argmax(element) for element in y_pred]\n",
        "\n",
        "print(\"Classification Report: \\n\", classification_report(y_val, y_pred_classes))"
      ],
      "metadata": {
        "colab": {
          "base_uri": "https://localhost:8080/"
        },
        "id": "n0VAS68X41hc",
        "outputId": "ab928e5d-60d0-483f-cc98-fb1c1b438ae4"
      },
      "execution_count": 10,
      "outputs": [
        {
          "output_type": "stream",
          "name": "stdout",
          "text": [
            "1/1 [==============================] - 0s 72ms/step\n",
            "Classification Report: \n",
            "               precision    recall  f1-score   support\n",
            "\n",
            "           0       0.50      1.00      0.67         4\n",
            "           1       0.00      0.00      0.00         4\n",
            "\n",
            "    accuracy                           0.50         8\n",
            "   macro avg       0.25      0.50      0.33         8\n",
            "weighted avg       0.25      0.50      0.33         8\n",
            "\n"
          ]
        },
        {
          "output_type": "stream",
          "name": "stderr",
          "text": [
            "/usr/local/lib/python3.7/dist-packages/sklearn/metrics/_classification.py:1318: UndefinedMetricWarning: Precision and F-score are ill-defined and being set to 0.0 in labels with no predicted samples. Use `zero_division` parameter to control this behavior.\n",
            "  _warn_prf(average, modifier, msg_start, len(result))\n",
            "/usr/local/lib/python3.7/dist-packages/sklearn/metrics/_classification.py:1318: UndefinedMetricWarning: Precision and F-score are ill-defined and being set to 0.0 in labels with no predicted samples. Use `zero_division` parameter to control this behavior.\n",
            "  _warn_prf(average, modifier, msg_start, len(result))\n",
            "/usr/local/lib/python3.7/dist-packages/sklearn/metrics/_classification.py:1318: UndefinedMetricWarning: Precision and F-score are ill-defined and being set to 0.0 in labels with no predicted samples. Use `zero_division` parameter to control this behavior.\n",
            "  _warn_prf(average, modifier, msg_start, len(result))\n"
          ]
        }
      ]
    },
    {
      "cell_type": "code",
      "source": [
        "y_pred = ann.predict(x_test)\n",
        "y_pred_classes = [np.argmax(element) for element in y_pred]\n",
        "\n",
        "print(\"Classification Report: \\n\", classification_report(y_test, y_pred_classes))"
      ],
      "metadata": {
        "colab": {
          "base_uri": "https://localhost:8080/"
        },
        "id": "53raVqZ4yxH5",
        "outputId": "a870f90a-4415-4dae-f398-932b3889d064"
      },
      "execution_count": 11,
      "outputs": [
        {
          "output_type": "stream",
          "name": "stdout",
          "text": [
            "1/1 [==============================] - 0s 21ms/step\n",
            "Classification Report: \n",
            "               precision    recall  f1-score   support\n",
            "\n",
            "           0       0.50      1.00      0.67         4\n",
            "           1       0.00      0.00      0.00         4\n",
            "\n",
            "    accuracy                           0.50         8\n",
            "   macro avg       0.25      0.50      0.33         8\n",
            "weighted avg       0.25      0.50      0.33         8\n",
            "\n"
          ]
        },
        {
          "output_type": "stream",
          "name": "stderr",
          "text": [
            "/usr/local/lib/python3.7/dist-packages/sklearn/metrics/_classification.py:1318: UndefinedMetricWarning: Precision and F-score are ill-defined and being set to 0.0 in labels with no predicted samples. Use `zero_division` parameter to control this behavior.\n",
            "  _warn_prf(average, modifier, msg_start, len(result))\n",
            "/usr/local/lib/python3.7/dist-packages/sklearn/metrics/_classification.py:1318: UndefinedMetricWarning: Precision and F-score are ill-defined and being set to 0.0 in labels with no predicted samples. Use `zero_division` parameter to control this behavior.\n",
            "  _warn_prf(average, modifier, msg_start, len(result))\n",
            "/usr/local/lib/python3.7/dist-packages/sklearn/metrics/_classification.py:1318: UndefinedMetricWarning: Precision and F-score are ill-defined and being set to 0.0 in labels with no predicted samples. Use `zero_division` parameter to control this behavior.\n",
            "  _warn_prf(average, modifier, msg_start, len(result))\n"
          ]
        }
      ]
    },
    {
      "cell_type": "code",
      "source": [
        "# X_train, X_test, Y_train, Y_test = train_test_split(images2, labels, test_size = 0.2, stratify = labels, random_state = 2)\n",
        "\n",
        "\n",
        "\n",
        "import matplotlib.pyplot as plt\n",
        "\n",
        "from sklearn import linear_model\n",
        "\n",
        "from sklearn import datasets\n",
        "\n",
        "from sklearn.model_selection import train_test_split\n",
        "\n",
        "import skimage.io as io\n",
        "\n",
        "from sklearn.utils import shuffle\n",
        "\n",
        "from sklearn.pipeline import make_pipeline\n",
        "\n",
        "from sklearn.preprocessing import StandardScaler\n",
        "\n",
        "from sklearn import metrics\n",
        "\n",
        "from mlxtend.plotting import plot_confusion_matrix\n",
        "\n",
        "from sklearn.metrics import classification_report\n",
        "\n",
        "from sklearn.neural_network import MLPClassifier\n",
        "\n",
        "from sklearn.model_selection import train_test_split\n",
        "\n",
        "learning = MLPClassifier(hidden_layer_sizes=(10,10,5), activation='relu', solver='adam', max_iter=1000)\n",
        "\n",
        "train_x_flatten = x_train.reshape(x_train.shape[0], -1)\n",
        "test_x_flatten = x_test.reshape(x_test.shape[0], -1)\n",
        "\n",
        "learning.fit(train_x_flatten,y_train)\n",
        "\n",
        "Training_Prediction = learning.predict(train_x_flatten)\n",
        "\n",
        "Testing_Prediction = learning.predict(test_x_flatten)\n",
        "\n",
        "\n",
        "print(classification_report(y_train ,Training_Prediction))\n",
        "\n",
        "print(classification_report(y_test ,Testing_Prediction))"
      ],
      "metadata": {
        "colab": {
          "base_uri": "https://localhost:8080/"
        },
        "id": "Atyyra44r74f",
        "outputId": "4d24b58e-5faf-4c13-f79c-e1dc4e54bbef"
      },
      "execution_count": 26,
      "outputs": [
        {
          "output_type": "stream",
          "name": "stdout",
          "text": [
            "              precision    recall  f1-score   support\n",
            "\n",
            "           0       1.00      1.00      1.00        12\n",
            "           1       1.00      1.00      1.00        12\n",
            "\n",
            "    accuracy                           1.00        24\n",
            "   macro avg       1.00      1.00      1.00        24\n",
            "weighted avg       1.00      1.00      1.00        24\n",
            "\n",
            "              precision    recall  f1-score   support\n",
            "\n",
            "           0       0.43      0.75      0.55         4\n",
            "           1       0.00      0.00      0.00         4\n",
            "\n",
            "    accuracy                           0.38         8\n",
            "   macro avg       0.21      0.38      0.27         8\n",
            "weighted avg       0.21      0.38      0.27         8\n",
            "\n"
          ]
        }
      ]
    },
    {
      "cell_type": "code",
      "source": [],
      "metadata": {
        "id": "5AtK4_JhsuH_"
      },
      "execution_count": null,
      "outputs": []
    }
  ],
  "metadata": {
    "colab": {
      "provenance": [],
      "authorship_tag": "ABX9TyOSM+uOTA5hsSnSFe7Q6K6a",
      "include_colab_link": true
    },
    "kernelspec": {
      "display_name": "Python 3",
      "name": "python3"
    },
    "language_info": {
      "name": "python"
    }
  },
  "nbformat": 4,
  "nbformat_minor": 0
}