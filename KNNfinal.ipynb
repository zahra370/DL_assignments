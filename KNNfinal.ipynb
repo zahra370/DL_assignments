{
  "nbformat": 4,
  "nbformat_minor": 0,
  "metadata": {
    "colab": {
      "provenance": [],
      "authorship_tag": "ABX9TyNwsikp6iIH8JpPqai1Zbd6",
      "include_colab_link": true
    },
    "kernelspec": {
      "name": "python3",
      "display_name": "Python 3"
    },
    "language_info": {
      "name": "python"
    }
  },
  "cells": [
    {
      "cell_type": "markdown",
      "metadata": {
        "id": "view-in-github",
        "colab_type": "text"
      },
      "source": [
        "<a href=\"https://colab.research.google.com/github/zahra370/DL_assignments/blob/main/KNNfinal.ipynb\" target=\"_parent\"><img src=\"https://colab.research.google.com/assets/colab-badge.svg\" alt=\"Open In Colab\"/></a>"
      ]
    },
    {
      "cell_type": "code",
      "execution_count": 1,
      "metadata": {
        "colab": {
          "base_uri": "https://localhost:8080/",
          "height": 466
        },
        "id": "G14yM7IC8xeP",
        "outputId": "dac5e307-44e1-444d-c530-5815e84b70e1"
      },
      "outputs": [
        {
          "output_type": "stream",
          "name": "stdout",
          "text": [
            "Downloading data from https://www.cs.toronto.edu/~kriz/cifar-10-python.tar.gz\n",
            "170500096/170498071 [==============================] - 6s 0us/step\n",
            "170508288/170498071 [==============================] - 6s 0us/step\n",
            "Images Shape: (50000, 32, 32, 3)\n",
            "Labels Shape: (50000, 1)\n",
            "Index Shape: (50000,)\n",
            "Filtered Images Shape: (5000, 32, 32, 3)\n",
            "labels4 (5000, 1)\n",
            "Index Shape: (50000,)\n",
            "Filtered Images Shape: (5000, 32, 32, 3)\n",
            "labels6 (5000, 1)\n"
          ]
        },
        {
          "output_type": "display_data",
          "data": {
            "text/plain": [
              "<Figure size 432x288 with 1 Axes>"
            ],
            "image/png": "[encoded data removed]"
          },
          "metadata": {
            "needs_background": "light"
          }
        }
      ],
      "source": [
        "######## DEEP LEARNING ASSIGNMENT 01 ##########\n",
        "\n",
        "from tensorflow.keras import datasets\n",
        "import matplotlib.pyplot as plt\n",
        "import numpy as np\n",
        "\n",
        "# importing CIFAR10 dataset\n",
        "(train_images, train_labels), (test_images, test_labels)= datasets.cifar10.load_data()\n",
        "\n",
        "print('Images Shape: {}'.format(train_images.shape))\n",
        "print('Labels Shape: {}'.format(train_labels.shape))\n",
        "\n",
        "# extraction class 5 deer \n",
        "idx = (train_labels == 4).reshape(train_images.shape[0])\n",
        "print('Index Shape: {}'.format(idx.shape))\n",
        "filtered_images4 = train_images[idx]\n",
        "print('Filtered Images Shape: {}'.format(filtered_images4.shape))\n",
        "plt.imshow(filtered_images4[150])\n",
        "# extracting labels for class4\n",
        "labels_c4 = train_labels[idx]\n",
        "print('labels4',labels_c4.shape)\n",
        "\n",
        "\n",
        "# extracting class 6 frog\n",
        "\n",
        "idx = (train_labels == 6).reshape(train_images.shape[0])\n",
        "print('Index Shape: {}'.format(idx.shape))\n",
        "filtered_images6 = train_images[idx]\n",
        "print('Filtered Images Shape: {}'.format(filtered_images6.shape))\n",
        "plt.imshow(filtered_images6[200])\n",
        "\n",
        "# extracting labels for class6\n",
        "\n",
        "labels_c6 = train_labels[idx]\n",
        "print('labels6',labels_c6.shape)"
      ]
    },
    {
      "cell_type": "code",
      "source": [
        "# extracting first 20 images from class4\n",
        "\n",
        "class4_img = filtered_images4[:20]\n",
        "print(class4_img.shape)\n",
        "class6_img = filtered_images6[:20]\n",
        "print(class6_img.shape)\n",
        "c4_labels = labels_c4[:20]\n",
        "print(c4_labels.shape)\n",
        "c6_labels = labels_c6[:20]\n",
        "print(c6_labels.shape)"
      ],
      "metadata": {
        "colab": {
          "base_uri": "https://localhost:8080/"
        },
        "id": "rrEGRYiy84i2",
        "outputId": "94695bd2-bb11-4f46-ca53-3a4586d500c8"
      },
      "execution_count": 2,
      "outputs": [
        {
          "output_type": "stream",
          "name": "stdout",
          "text": [
            "(20, 32, 32, 3)\n",
            "(20, 32, 32, 3)\n",
            "(20, 1)\n",
            "(20, 1)\n"
          ]
        }
      ]
    },
    {
      "cell_type": "code",
      "source": [
        "# splitting data into train and test set\n",
        "\n",
        "X_train_c4 = class4_img[:16]\n",
        "X_train2_c6 = class6_img[:16]\n",
        "X_TRAIN = np.concatenate((X_train_c4, X_train2_c6))\n",
        "print(X_TRAIN.shape)\n",
        "\n",
        "X_test_c4 = class4_img[16:]\n",
        "X_test_c6 = class6_img[16:]\n",
        "X_TEST = np.concatenate((X_test_c4, X_test_c6))\n",
        "print(X_TEST.shape)\n",
        "\n",
        "Y_train_c4 = c4_labels[:16]\n",
        "Y_train_c6 = c6_labels[:16]\n",
        "Y_TRAIN = np.concatenate((Y_train_c4, Y_train_c6))\n",
        "print(Y_TRAIN.shape)\n",
        "\n",
        "Y_test_c4 = c4_labels[16:]\n",
        "Y_test_c6 = c6_labels[16:]\n",
        "Y_TEST = np.concatenate((Y_test_c4, Y_test_c6))\n",
        "print(Y_TEST.shape)"
      ],
      "metadata": {
        "colab": {
          "base_uri": "https://localhost:8080/"
        },
        "id": "vOyIyG3B9F7G",
        "outputId": "23d05492-4ebd-477c-839a-c7bf65e69f1a"
      },
      "execution_count": 3,
      "outputs": [
        {
          "output_type": "stream",
          "name": "stdout",
          "text": [
            "(32, 32, 32, 3)\n",
            "(8, 32, 32, 3)\n",
            "(32, 1)\n",
            "(8, 1)\n"
          ]
        }
      ]
    },
    {
      "cell_type": "code",
      "source": [
        "# Building KNN MODEL\n",
        "\n",
        "class KNN():\n",
        "\n",
        "  # initializing the parameters\n",
        "  def __init__(self, distance_metric):\n",
        "    self.distance_metric = distance_metric\n",
        "  \n",
        "  # training function\n",
        "  def train(self, X , Y):\n",
        "    self.X_train = X\n",
        "    self.y_train = Y\n",
        "\n",
        "  # finding the distance \n",
        "  def get_distance_meteric(self, X ):\n",
        "    if (self.distance_metric == 'euclidean'):\n",
        "      num_test = X.shape[0]\n",
        "      num_train = self.X_train.shape[0]\n",
        "      dists = np.zeros((num_test, num_train))\n",
        "      for i in range(num_test):\n",
        "        for j in range(num_train):\n",
        "          dists[i,j] = np.sqrt(np.sum(np.square(X[i,:] - self.X_train[j,:])))\n",
        "        \n",
        "      return dists\n",
        "    \n",
        "    elif (self.distance_metric == 'manhattan'):\n",
        "      num_test = X.shape[0]\n",
        "      num_train = self.X_train.shape[0]\n",
        "      dists = np.zeros((num_test, num_train))\n",
        "      dists = np.zeros((num_test, num_train))\n",
        "      for i in range(num_test):\n",
        "        for j in range(num_train):\n",
        "          dists[i,j] = np.sum(np.abs(X[i,:] - self.X_train[j,:]))\n",
        "      return dists\n",
        "  \n",
        "  # predit function\n",
        "\n",
        "  def predict (self, dists, k):\n",
        "\n",
        "    num_test  = dists.shape[0]\n",
        "    y_pred = np.zeros(num_test)\n",
        "    for i in range(num_test):\n",
        "      closest_y = []\n",
        "      # getting the index of the distance in the sorted list \n",
        "      sort_dis = np.argsort(dists[i,:])\n",
        "      # extracting only the first k element from the sorted list\n",
        "      knn_sort_dis_in = sort_dis[0:k]\n",
        "      # finding the label \n",
        "      closest_y = self.y_train[knn_sort_dis_in]\n",
        "      # reshaping list into 1\n",
        "      closest_y = np.reshape(closest_y, -1)\n",
        "      # counting maximum no of occured classes\n",
        "      y_pred[i] = np.argmax(np.bincount(closest_y))\n",
        "\n",
        "\n",
        "    return y_pred"
      ],
      "metadata": {
        "id": "PimVxx_79J6B"
      },
      "execution_count": 4,
      "outputs": []
    },
    {
      "cell_type": "code",
      "source": [
        "# calling class \n",
        "c = KNN(distance_metric = 'euclidean')\n",
        "c.train(X_TRAIN, Y_TRAIN)\n",
        "dists = c.get_distance_meteric(X_TEST)\n",
        "y_prd = c.predict(dists , k = 5)\n",
        "y_prd = np.reshape(y_prd, (y_prd.shape[0], -1))\n",
        "n_t = 8\n",
        "n_c = np.sum(y_prd == Y_TEST)\n",
        "model_acc = float(n_c)/ n_t\n",
        "print('Got %d / %d correct => accuracy: %f' % (n_c, n_t, model_acc))"
      ],
      "metadata": {
        "colab": {
          "base_uri": "https://localhost:8080/"
        },
        "id": "j2IFtGzi9Tqm",
        "outputId": "1fb1cc12-3697-4cbf-8575-9c0348b57b6b"
      },
      "execution_count": 5,
      "outputs": [
        {
          "output_type": "stream",
          "name": "stdout",
          "text": [
            "Got 5 / 8 correct => accuracy: 0.625000\n"
          ]
        }
      ]
    },
    {
      "cell_type": "code",
      "source": [
        "print(y_prd)\n",
        "print(len(X_TEST))"
      ],
      "metadata": {
        "colab": {
          "base_uri": "https://localhost:8080/"
        },
        "id": "Uf7q1-yyFnaP",
        "outputId": "b9e093ad-9c9d-439b-ab20-1384e306c461"
      },
      "execution_count": 6,
      "outputs": [
        {
          "output_type": "stream",
          "name": "stdout",
          "text": [
            "[[6.]\n",
            " [4.]\n",
            " [4.]\n",
            " [4.]\n",
            " [6.]\n",
            " [4.]\n",
            " [4.]\n",
            " [6.]]\n",
            "8\n"
          ]
        }
      ]
    },
    {
      "cell_type": "code",
      "source": [
        "# creating five folds for cross validation\n",
        "num_folds = 5\n",
        "k_choices = [1, 3, 5, 8, 10, 12, 15, 20, 50, 100]\n",
        "\n",
        "\n",
        "\n",
        "X_train_folds = []\n",
        "y_train_folds = []\n",
        "\n",
        "# splitting training data into 5 no of folds\n",
        "X_train_folds = np.array_split(X_TRAIN,num_folds)\n",
        "y_train_folds = np.array_split(Y_TRAIN,num_folds)\n",
        "k_to_accuracies = {}\n",
        "\n",
        "\n",
        "\n",
        "for k in k_choices:\n",
        "    k_to_accuracies[k] = []\n",
        "    for num_knn in range(0,num_folds):\n",
        "        X_test = X_train_folds[num_knn]\n",
        "        y_test = y_train_folds[num_knn]\n",
        "        X_train = X_train_folds\n",
        "        y_train = y_train_folds\n",
        "        \n",
        "        temp = np.delete(X_train,num_knn,0)\n",
        "        X_train = np.concatenate((temp),axis = 0)\n",
        "        y_train = np.delete(y_train,num_knn,0)\n",
        "        y_train = np.concatenate((y_train),axis = 0)\n",
        "        \n",
        "        classifier = KNN(distance_metric = 'euclidean')\n",
        "        classifier.train(X_train, y_train)\n",
        "        dists = classifier.get_distance_meteric(X_test)\n",
        "        y_test_pred = classifier.predict(dists, k)\n",
        "\n",
        "        y_test_prd = np.reshape(y_test_pred, (y_test_pred.shape[0], -1))\n",
        "\n",
        "        num_correct = np.sum(y_test_prd == y_test)\n",
        "        num_test = 8\n",
        "        accuracy = float(num_correct) / num_test\n",
        "        k_to_accuracies[k].append(accuracy)\n",
        "\n",
        "\n",
        "print(\"Printing our 5-fold accuracies for varying values of k:\")\n",
        "print()\n",
        "for k in sorted(k_to_accuracies):\n",
        "    for accuracy in k_to_accuracies[k]:\n",
        "        print('k = %d, accuracy = %f' % (k, accuracy))"
      ],
      "metadata": {
        "colab": {
          "base_uri": "https://localhost:8080/"
        },
        "id": "bCL4t5Vr9XO5",
        "outputId": "8b920869-5518-468e-e058-b02418048bda"
      },
      "execution_count": 7,
      "outputs": [
        {
          "output_type": "stream",
          "name": "stdout",
          "text": [
            "Printing our 5-fold accuracies for varying values of k:\n",
            "\n",
            "k = 1, accuracy = 0.250000\n",
            "k = 1, accuracy = 0.500000\n",
            "k = 1, accuracy = 0.000000\n",
            "k = 1, accuracy = 0.375000\n",
            "k = 1, accuracy = 0.500000\n",
            "k = 3, accuracy = 0.250000\n",
            "k = 3, accuracy = 0.375000\n",
            "k = 3, accuracy = 0.125000\n",
            "k = 3, accuracy = 0.375000\n",
            "k = 3, accuracy = 0.250000\n",
            "k = 5, accuracy = 0.125000\n",
            "k = 5, accuracy = 0.125000\n",
            "k = 5, accuracy = 0.000000\n",
            "k = 5, accuracy = 0.375000\n",
            "k = 5, accuracy = 0.250000\n",
            "k = 8, accuracy = 0.250000\n",
            "k = 8, accuracy = 0.125000\n",
            "k = 8, accuracy = 0.250000\n",
            "k = 8, accuracy = 0.000000\n",
            "k = 8, accuracy = 0.000000\n",
            "k = 10, accuracy = 0.125000\n",
            "k = 10, accuracy = 0.125000\n",
            "k = 10, accuracy = 0.250000\n",
            "k = 10, accuracy = 0.000000\n",
            "k = 10, accuracy = 0.000000\n",
            "k = 12, accuracy = 0.125000\n",
            "k = 12, accuracy = 0.125000\n",
            "k = 12, accuracy = 0.125000\n",
            "k = 12, accuracy = 0.000000\n",
            "k = 12, accuracy = 0.000000\n",
            "k = 15, accuracy = 0.000000\n",
            "k = 15, accuracy = 0.000000\n",
            "k = 15, accuracy = 0.125000\n",
            "k = 15, accuracy = 0.000000\n",
            "k = 15, accuracy = 0.125000\n",
            "k = 20, accuracy = 0.000000\n",
            "k = 20, accuracy = 0.000000\n",
            "k = 20, accuracy = 0.000000\n",
            "k = 20, accuracy = 0.000000\n",
            "k = 20, accuracy = 0.000000\n",
            "k = 50, accuracy = 0.000000\n",
            "k = 50, accuracy = 0.000000\n",
            "k = 50, accuracy = 0.250000\n",
            "k = 50, accuracy = 0.000000\n",
            "k = 50, accuracy = 0.000000\n",
            "k = 100, accuracy = 0.000000\n",
            "k = 100, accuracy = 0.000000\n",
            "k = 100, accuracy = 0.250000\n",
            "k = 100, accuracy = 0.000000\n",
            "k = 100, accuracy = 0.000000\n"
          ]
        },
        {
          "output_type": "stream",
          "name": "stderr",
          "text": [
            "/usr/local/lib/python3.7/dist-packages/numpy/lib/function_base.py:4454: VisibleDeprecationWarning: Creating an ndarray from ragged nested sequences (which is a list-or-tuple of lists-or-tuples-or ndarrays with different lengths or shapes) is deprecated. If you meant to do this, you must specify 'dtype=object' when creating the ndarray.\n",
            "  arr = asarray(arr)\n"
          ]
        }
      ]
    },
    {
      "cell_type": "code",
      "source": [
        "for k in k_choices:\n",
        "    accuracies = k_to_accuracies[k]\n",
        "    plt.scatter([k] * len(accuracies), accuracies)\n",
        "\n",
        "# plot the trend line with error bars that correspond to standard deviation\n",
        "\n",
        "accuracies_mean = np.array([np.mean(v) for k,v in sorted(k_to_accuracies.items())])\n",
        "accuracies_std = np.array([np.std(v) for k,v in sorted(k_to_accuracies.items())])\n",
        "plt.errorbar(k_choices, accuracies_mean, yerr=accuracies_std)\n",
        "plt.title('Cross-validation on k')\n",
        "plt.xlabel('k')\n",
        "plt.ylabel('Cross-validation accuracy')\n",
        "plt.show()"
      ],
      "metadata": {
        "colab": {
          "base_uri": "https://localhost:8080/",
          "height": 295
        },
        "id": "dnSKVzNY9dqq",
        "outputId": "b5894e43-90c0-446d-e88f-b99e0fe7f7db"
      },
      "execution_count": 8,
      "outputs": [
        {
          "output_type": "display_data",
          "data": {
            "text/plain": [
              "<Figure size 432x288 with 1 Axes>"
            ],
            "image/png": "[encoded data removed]"
          },
          "metadata": {
            "needs_background": "light"
          }
        }
      ]
    },
    {
      "cell_type": "code",
      "source": [
        "# Choosing best value of k based on cross-validation results\n",
        "\n",
        "best_k = 1\n",
        "\n",
        "classifier = KNN(distance_metric = 'euclidean')\n",
        "classifier.train(X_TRAIN, Y_TRAIN)\n",
        "y_test_pred = classifier.predict(X_TEST, k=best_k)\n",
        "y_prd = np.reshape(y_test_pred, (y_test_pred.shape[0], -1))\n",
        "\n",
        "# Computing and displaying the accuracy for best k found during cross-validation\n",
        "num_correct = np.sum(y_prd == Y_TEST)\n",
        "accuracy = float(num_correct) / num_test\n",
        "print('Got %d / %d correct => accuracy: %f' % (num_correct, num_test, accuracy))\n",
        "\n"
      ],
      "metadata": {
        "colab": {
          "base_uri": "https://localhost:8080/"
        },
        "id": "yDDU-Yhe9jpB",
        "outputId": "5b377f6d-319b-4069-aef1-5051134779ac"
      },
      "execution_count": 9,
      "outputs": [
        {
          "output_type": "stream",
          "name": "stdout",
          "text": [
            "Got 4 / 8 correct => accuracy: 0.500000\n"
          ]
        }
      ]
    },
    {
      "cell_type": "code",
      "source": [],
      "metadata": {
        "id": "lnuf-hIKFz35"
      },
      "execution_count": null,
      "outputs": []
    }
  ]
}